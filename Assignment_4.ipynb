{
 "cells": [
  {
   "cell_type": "markdown",
   "metadata": {},
   "source": [
    "<font size=10>Assignment 4"
   ]
  },
  {
   "cell_type": "markdown",
   "metadata": {},
   "source": [
    "<font size=8>Introduction"
   ]
  },
  {
   "cell_type": "markdown",
   "metadata": {},
   "source": [
    "<font size=4> Objective: Develop a comprehensive model of the Co-Zr-Cr-Ti quaternary system and assess its glass-forming capabilities through the utilization of Maximum Full Width at Half Maximum (MaxFWHM) measurements. The investigation will involve a thorough exploration of pertinent features, employing sophisticated featurization techniques, and implementing cross-validation methodologies to enhance the model's predictability in accordance with physical measurements."
   ]
  },
  {
   "cell_type": "markdown",
   "metadata": {},
   "source": [
    "<font size=8>Code"
   ]
  },
  {
   "cell_type": "markdown",
   "metadata": {},
   "source": [
    "<font size=6>Modules"
   ]
  },
  {
   "cell_type": "code",
   "execution_count": 3,
   "metadata": {},
   "outputs": [],
   "source": [
    "#Loading dependencies\n",
    "import scipy.io\n",
    "import numpy.matlib as nm\n",
    "import numpy as np\n",
    "import matplotlib.pyplot as plt\n",
    "import matplotlib\n",
    "import pandas as pd\n",
    "import sklearn\n",
    "from sklearn.linear_model import LinearRegression\n",
    "from sklearn.model_selection import train_test_split\n",
    "from sklearn.metrics import mean_squared_error\n",
    "import pymatgen\n",
    "import warnings\n",
    "warnings.simplefilter(action='ignore', category=FutureWarning)#stack overflow \"https://stackoverflow.com/questions/15777951/how-to-suppress-pandas-future-warning\"\n",
    "warnings.filterwarnings(\"ignore\", category=UserWarning, module=\"sklearn\")\n"
   ]
  },
  {
   "cell_type": "code",
   "execution_count": 4,
   "metadata": {},
   "outputs": [
    {
     "name": "stdout",
     "output_type": "stream",
     "text": [
      "2.2.0\n",
      "1.26.4\n",
      "1.12.0\n",
      "1.4.1.post1\n"
     ]
    },
    {
     "ename": "AttributeError",
     "evalue": "module 'pymatgen' has no attribute '__version__'",
     "output_type": "error",
     "traceback": [
      "\u001b[1;31m---------------------------------------------------------------------------\u001b[0m",
      "\u001b[1;31mAttributeError\u001b[0m                            Traceback (most recent call last)",
      "Cell \u001b[1;32mIn[4], line 6\u001b[0m\n\u001b[0;32m      4\u001b[0m \u001b[38;5;28mprint\u001b[39m(scipy\u001b[38;5;241m.\u001b[39m__version__) \u001b[38;5;66;03m#1.12.0\u001b[39;00m\n\u001b[0;32m      5\u001b[0m \u001b[38;5;28mprint\u001b[39m(sklearn\u001b[38;5;241m.\u001b[39m__version__) \u001b[38;5;66;03m#1.2.1\u001b[39;00m\n\u001b[1;32m----> 6\u001b[0m \u001b[38;5;28mprint\u001b[39m(\u001b[43mpymatgen\u001b[49m\u001b[38;5;241;43m.\u001b[39;49m\u001b[43m__version__\u001b[49m) \u001b[38;5;66;03m#2024.2.8\u001b[39;00m\n",
      "\u001b[1;31mAttributeError\u001b[0m: module 'pymatgen' has no attribute '__version__'"
     ]
    }
   ],
   "source": [
    "#Versions used\n",
    "print(pd.__version__) #2.2.0\n",
    "print(np.__version__) #1.26.4\n",
    "print(scipy.__version__) #1.12.0\n",
    "print(sklearn.__version__) #1.2.1\n",
    "print(pymatgen.__version__) #2024.2.8"
   ]
  },
  {
   "cell_type": "markdown",
   "metadata": {},
   "source": [
    "<font size=6>Importing data"
   ]
  },
  {
   "cell_type": "code",
   "execution_count": null,
   "metadata": {},
   "outputs": [],
   "source": [
    "# Load data from the same CSV file with different sheets\n",
    "xls_file = pd.ExcelFile('Metallic Glass Data.xlsx')  # Update with your actual file name\n",
    "\n",
    "# Read data from different sheets\n",
    "CrTiZr_data = xls_file.parse('CrTiZr')\n",
    "CrCoZr_data = xls_file.parse('CrCoZr')\n",
    "CoTiZr_data = xls_file.parse('CoTiZr')\n",
    "\n",
    "#add a string of the elements in the compound\n",
    "CrTiZr_data['comp_string'] = 'CrTiZr'\n",
    "CrCoZr_data['comp_string'] = 'CrCoZr'\n",
    "CoTiZr_data['comp_string'] = 'CoTiZr'\n",
    "\n",
    "#creating an element map\n",
    "element_map = {'Co': 'CrTiZr',\n",
    "               'Ti': 'CrCoZr',\n",
    "               'Cr': 'CoTiZr'}"
   ]
  },
  {
   "cell_type": "code",
   "execution_count": null,
   "metadata": {},
   "outputs": [],
   "source": [
    "#using function given in Practical #5 for plotting ternary diagrams\n",
    "\n",
    "import ternary\n",
    "\n",
    "def plot_ternary(data, components, z, label, title=''):\n",
    "    \n",
    "    fig, ax = plt.subplots()\n",
    "    scale = 100\n",
    "\n",
    "    grid = plt.GridSpec(10, 10, wspace=2, hspace=1)\n",
    "    ax = plt.subplot(grid[:,:9])\n",
    "\n",
    "    figure, tax = ternary.figure(scale=scale, ax=ax)\n",
    "    # Draw Boundary and Gridlines\n",
    "    tax.boundary(linewidth=2.0)\n",
    "    tax.gridlines(color=\"red\", multiple=10)\n",
    "\n",
    "    # Set Axis labels and Title\n",
    "    fontsize = 12\n",
    "    offset = 0.14\n",
    "    tax.right_corner_label(components[0], fontsize=fontsize, offset=0.2, fontweight='bold')\n",
    "    tax.top_corner_label(components[2], fontsize=fontsize, offset=0.23, fontweight='bold')\n",
    "    tax.left_corner_label(components[1], fontsize=fontsize, offset=0.2, fontweight='bold')\n",
    "    tax.left_axis_label(\"at.%\", fontsize=fontsize, offset=offset)\n",
    "    tax.right_axis_label(\"at.%\", fontsize=fontsize, offset=offset)\n",
    "    tax.bottom_axis_label(\"at.%\", fontsize=fontsize, offset=offset)\n",
    "    tax.ticks(axis='lbr', multiple=10, linewidth=1, offset=0.025, clockwise= True)\n",
    "    tax.get_axes().axis('off')\n",
    "    tax.clear_matplotlib_ticks()\n",
    "\n",
    "    \n",
    "    \n",
    "    # Create color map and plot color bar\n",
    "    cmap = plt.cm.plasma\n",
    "    norm = plt.Normalize(0, z.max())\n",
    "    \n",
    "    tax.scatter(data, marker='o', c=cmap(norm(z)), edgecolors='k', alpha=1, s=30, vmin=z.min(), vmax=z.max())\n",
    "    \n",
    "    ax = plt.subplot(grid[1:-1,9:])\n",
    "    cb1 = matplotlib.colorbar.ColorbarBase(ax, cmap=cmap, norm=norm, orientation='vertical', label=label)\n",
    "    cb1.set_label(label=label, size=18)\n",
    "    fig.suptitle(title,y=1,weight='bold')"
   ]
  },
  {
   "cell_type": "markdown",
   "metadata": {},
   "source": [
    "Ternary system exploration"
   ]
  },
  {
   "cell_type": "code",
   "execution_count": null,
   "metadata": {},
   "outputs": [],
   "source": [
    "# Merge the ternary systems to create the quaternary system dataset\n",
    "\n",
    "# a = cr , b = co , c =ti , d = zr\n",
    "components = ['Cr','Co','Ti','Zr']\n",
    "CoTiZr_components = [components[i] for i in [1,2,3]]\n",
    "CrCoZr_components = [components[i] for i in [0,1,3]]\n",
    "CrTiZr_components = [components[i] for i in [0,2,3]]\n",
    "\n",
    "component_list = [CrTiZr_components,CrCoZr_components,CoTiZr_components]\n",
    "data = [CrTiZr_data,CrCoZr_data,CoTiZr_data]\n",
    "\n",
    "for c,d in zip(component_list,data):\n",
    "    cmp =d.loc[:,c].to_numpy()\n",
    "    cmp*=100\n",
    "    points=nm.vstack((cmp[:,0].T,cmp[:,2].T)).T\n",
    "\n",
    "    #plot_ternary(points, c, d['MaxFWHM'], label='FWHM $\\AA^{-1}$',title= f'{c}')"
   ]
  },
  {
   "cell_type": "markdown",
   "metadata": {},
   "source": [
    "Bridge - Creating a quaternary dataframe"
   ]
  },
  {
   "cell_type": "code",
   "execution_count": null,
   "metadata": {},
   "outputs": [],
   "source": [
    "temp= pd.concat([CrTiZr_data.pop('MaxFWHM'), CrCoZr_data.pop('MaxFWHM'), CoTiZr_data.pop('MaxFWHM')],ignore_index=True)\n",
    "quaternary_data = pd.merge(CrTiZr_data,CrCoZr_data,on=['Cr', 'Zr','comp_string'],how='outer')\n",
    "quaternary_data = pd.merge(quaternary_data, CoTiZr_data, on=['Co', 'Ti', 'Zr','comp_string'],how='outer')\n",
    "quaternary_data=pd.concat([quaternary_data,temp],axis=1)"
   ]
  },
  {
   "cell_type": "markdown",
   "metadata": {},
   "source": [
    "Filling NaN values"
   ]
  },
  {
   "cell_type": "code",
   "execution_count": null,
   "metadata": {},
   "outputs": [],
   "source": [
    "#NanN values appear where element is missing, so 0 is a valid replacement\n",
    "quaternary_data.fillna(0,inplace=True)"
   ]
  },
  {
   "cell_type": "code",
   "execution_count": null,
   "metadata": {},
   "outputs": [],
   "source": [
    "quaternary_data"
   ]
  },
  {
   "cell_type": "markdown",
   "metadata": {},
   "source": [
    "<font size=6>Featurize"
   ]
  },
  {
   "cell_type": "markdown",
   "metadata": {},
   "source": [
    "Getting a matpygem composition value"
   ]
  },
  {
   "cell_type": "code",
   "execution_count": null,
   "metadata": {},
   "outputs": [],
   "source": [
    "#Conversion code modiffied from GPT 3.5 template\n",
    "import pandas as pd\n",
    "from pymatgen import core\n",
    "\n",
    "# Apply the featurizer to each row of the DataFrame\n",
    "compositions = []\n",
    "for index, row in quaternary_data[components].iterrows():\n",
    "    # Convert the row (elemental fractions) to a dictionary\n",
    "    element_fractions = row.to_dict()\n",
    "     # Convert the elemental fractions to a Pymatgen Composition object\n",
    "    composition = core.Composition(element_fractions)\n",
    "    # Append the features to the result list\n",
    "    compositions.append(composition)\n",
    "# Convert the result features list to a new DataFrame\n",
    "compositions_df = pd.DataFrame(pd.Series(compositions,name='composition'))\n",
    "quaternary_data_with_composition = pd.concat([quaternary_data, compositions_df],axis=1)\n"
   ]
  },
  {
   "cell_type": "code",
   "execution_count": null,
   "metadata": {},
   "outputs": [],
   "source": [
    "quaternary_data_with_composition"
   ]
  },
  {
   "cell_type": "markdown",
   "metadata": {},
   "source": [
    "featurzing with magpie"
   ]
  },
  {
   "cell_type": "code",
   "execution_count": null,
   "metadata": {},
   "outputs": [],
   "source": [
    "#Template modified from lecture 5 slides\n",
    "\n",
    "from matminer.featurizers.composition import composite as comp\n",
    "\n",
    "features = [ \"Number\", \"MendeleevNumber\", \"AtomicWeight\", \"MeltingT\",  \"Column\", \"Row\", \"CovalentRadius\", \"Electronegativity\", \"NsValence\", \"NpValence\", \"NdValence\", \"NfValence\", \"NValence\", \"NsUnfilled\", \"NpUnfilled\", \"NdUnfilled\", \"NfUnfilled\", \"NUnfilled\",\"GSvolume_pa\", \"GSbandgap\", \"GSmagmom\"]\n",
    "stats = [\"mean\", \"avg_dev\", \"minimum\", \"maximum\", \"range\"]\n",
    "magpie = comp.ElementProperty('magpie', features, stats) \n",
    "features_df = pd.DataFrame()\n",
    "for row in range(len(quaternary_data_with_composition)):\n",
    "    feature = magpie.featurize(quaternary_data_with_composition['composition'][row])\n",
    "    features_df = features_df.append(pd.Series(feature),ignore_index=True)\n",
    "quaternary_data_featurized = pd.concat([quaternary_data_with_composition,features_df],axis=1)\n",
    "    \n",
    "    \n"
   ]
  },
  {
   "cell_type": "code",
   "execution_count": null,
   "metadata": {},
   "outputs": [],
   "source": [
    "quaternary_data_featurized.head()"
   ]
  },
  {
   "cell_type": "markdown",
   "metadata": {},
   "source": [
    "<font size=6>CV"
   ]
  },
  {
   "cell_type": "markdown",
   "metadata": {},
   "source": [
    "Loco"
   ]
  },
  {
   "cell_type": "markdown",
   "metadata": {},
   "source": [
    "Creating a test and train split of the featurized data set"
   ]
  },
  {
   "cell_type": "code",
   "execution_count": null,
   "metadata": {},
   "outputs": [],
   "source": [
    "#creating a index map of where certain compositions are found\n",
    "elements = ['Cr',#will represent 'CoTiZr'\n",
    "            'Co',#will represent 'CrTiZr'\n",
    "            'Ti']#will represent 'CrCoZr'\n",
    "#creating a matrix\n",
    "id_acta={}\n",
    "for i in elements:\n",
    "    id_acta[i] = quaternary_data[i] == 0\n",
    "#id__acta identifies where there are no values for a certain element. ie represents the ternary missing that element"
   ]
  },
  {
   "cell_type": "code",
   "execution_count": null,
   "metadata": {},
   "outputs": [],
   "source": [
    "comp_strings = pd.DataFrame(quaternary_data.pop('comp_string'),columns=['comp_string'])"
   ]
  },
  {
   "cell_type": "code",
   "execution_count": null,
   "metadata": {},
   "outputs": [],
   "source": []
  },
  {
   "cell_type": "code",
   "execution_count": null,
   "metadata": {},
   "outputs": [],
   "source": [
    "from sklearn.linear_model import LinearRegression\n",
    "from sklearn.metrics import r2_score,mean_squared_error\n",
    "from sklearn.preprocessing import StandardScaler\n",
    "\n",
    "\n",
    "#creating a train test split\n",
    "training_set,test_set = train_test_split(quaternary_data,test_size=0.2, random_state=0)\n",
    "\n",
    "#Separating the target from the features\n",
    "target_values_training = pd.DataFrame(training_set.pop('MaxFWHM'),columns=['MaxFWHM'])\n",
    "target_values_test = pd.DataFrame(test_set.pop('MaxFWHM'),columns=['MaxFWHM'])\n",
    "\n",
    "#intiate model\n",
    "model=LinearRegression()\n",
    "#scaler=StandardScaler(with_mean=True,with_std=True)\n",
    "#column_labels = X_train.columns.tolist()\n",
    "#quaternary_data_scaled = scaler.fit_transform(X_train)\n",
    "#quaternary_data_scaled = pd.DataFrame(quaternary_data_scaled,columns=column_labels)\n",
    "\n",
    "results = {}\n",
    "\n",
    "\n",
    "#loco cv loop for each ternary\n",
    "for element in elements:\n",
    "    \n",
    "    #fit model\n",
    "    model.fit(training_set[~id_acta[element]],target_values_training[~id_acta[element]])\n",
    "\n",
    "    # Predict the target variable for the test set\n",
    "    y_pred= model.predict(training_set[id_acta[element]])\n",
    "    y_observed=model.predict(test_set)\n",
    "    \n",
    "    # Evaluate the model performance (you can choose other metrics)\n",
    "    r_squared_pred = r2_score(target_values_training[id_acta[element]],y_pred)\n",
    "    r_squared_observed = r2_score(target_values_test,y_observed)\n",
    "    \n",
    "    mse = mean_squared_error(y_test, y_pred)\n",
    "    \n",
    "    print(f'the predicted r2 value of sans {element} : {r_squared_pred}')\n",
    "    print(f'the observed r2 value of sans {element} : {r_squared_observed}')   \n",
    "    #print(f'the mse value of sans {element} : {mse}')\n",
    "    results[element] =(r_squared_pred,r_squared_observed)#,mse)\n",
    "    "
   ]
  },
  {
   "cell_type": "code",
   "execution_count": null,
   "metadata": {},
   "outputs": [],
   "source": [
    "len(y_observed),len(y_pred)"
   ]
  },
  {
   "cell_type": "code",
   "execution_count": null,
   "metadata": {},
   "outputs": [],
   "source": [
    "len(y_pred)"
   ]
  },
  {
   "cell_type": "code",
   "execution_count": null,
   "metadata": {},
   "outputs": [],
   "source": [
    "import numpy as np\n",
    "import matplotlib.pyplot as plt\n",
    "from sklearn.model_selection import cross_val_score\n",
    "from sklearn.linear_model import LinearRegression\n",
    "\n",
    "# Parity plot\n",
    "plt.scatter([x[1] for x in list(results.values())],[y[0] for y in list(results.values())], color='blue')\n",
    "plt.plot([-2,1], [-1,1], linestyle='--', color='red')\n",
    "#plt.plot([min(r2_obeserved), max(r2_obeserved)], [min(r2_obeserved), max(r2_obeserved)], linestyle='--', color='red')\n",
    "plt.xlabel('Observed R²')\n",
    "plt.ylabel('Predicted R²')\n",
    "plt.title('Parity Plot of R² Values')\n",
    "plt.show()"
   ]
  },
  {
   "cell_type": "markdown",
   "metadata": {},
   "source": [
    "random"
   ]
  },
  {
   "cell_type": "code",
   "execution_count": null,
   "metadata": {},
   "outputs": [],
   "source": [
    "from sklearn.model_selection import StratifiedShuffleSplit#function addapted from Lecture 5 slides\n",
    "\n",
    "def proportional_split(df, test_size=0.20, verbose=True):\n",
    "    cv = StratifiedShuffleSplit(n_splits=1, test_size=test_size,random_state=0)\n",
    "    for train, test in cv.split(df,df['comp_string']):\n",
    "        if verbose:\n",
    "            print(f\"Training data points: {len(train)}\")\n",
    "            print(f\"Test data points: {len(test)}\")\n",
    "            print(f\"total points:{len(train)+len(test)}\")\n",
    "    return train,test"
   ]
  },
  {
   "cell_type": "code",
   "execution_count": null,
   "metadata": {},
   "outputs": [],
   "source": [
    "#quaternary_data = pd.concat([quaternary_data,comp_strings],axis=1)"
   ]
  },
  {
   "cell_type": "code",
   "execution_count": null,
   "metadata": {},
   "outputs": [],
   "source": [
    "target_values = quaternary_data.pop('MaxFWHM')"
   ]
  },
  {
   "cell_type": "code",
   "execution_count": null,
   "metadata": {},
   "outputs": [],
   "source": [
    "from sklearn.model_selection import cross_validate,cross_val_score,cross_val_predict\n",
    "\n",
    "\n",
    "X_train, X_test, y_train, y_test = train_test_split(quaternary_data, target_values, test_size=0.2, random_state=0)\n",
    "r2_obeserved =[]\n",
    "cv_res = cross_validate(model, X_train, y_train, cv=5,return_estimator=True,scoring='r2')\n",
    "for estimator in cv_res['estimator']:\n",
    "    y_pred = estimator.predict(X_test)\n",
    "    r2 = r2_score(y_test,y_pred)\n",
    "    r2_obeserved.append(r2)\n"
   ]
  },
  {
   "cell_type": "code",
   "execution_count": null,
   "metadata": {},
   "outputs": [],
   "source": [
    "r2_predicted = cv_res['test_score']"
   ]
  },
  {
   "cell_type": "code",
   "execution_count": null,
   "metadata": {},
   "outputs": [],
   "source": [
    "import numpy as np\n",
    "import matplotlib.pyplot as plt\n",
    "from sklearn.model_selection import cross_val_score\n",
    "from sklearn.linear_model import LinearRegression\n",
    "\n",
    "# Parity plot\n",
    "plt.scatter(r2_obeserved,r2_predicted,color='blue')\n",
    "plt.plot([min(r2_obeserved),max(r2_obeserved)], [min(r2_obeserved),max(r2_obeserved)], linestyle='--', color='red')\n",
    "#plt.plot([min(r2_obeserved), max(r2_obeserved)], [min(r2_obeserved), max(r2_obeserved)], linestyle='--', color='red')\n",
    "plt.xlabel('Observed R²')\n",
    "plt.ylabel('Predicted R²')\n",
    "plt.title('Parity Plot of R² Values')\n",
    "plt.show()"
   ]
  },
  {
   "cell_type": "code",
   "execution_count": null,
   "metadata": {},
   "outputs": [],
   "source": [
    "cv_res"
   ]
  },
  {
   "cell_type": "code",
   "execution_count": null,
   "metadata": {},
   "outputs": [],
   "source": [
    "cv_res_best_index = list(cv_res['test_score']).index(max(list(cv_res['test_score'])))"
   ]
  },
  {
   "cell_type": "code",
   "execution_count": null,
   "metadata": {},
   "outputs": [],
   "source": [
    "best_model = cv_res['estimator'][cv_res_best_index]\n",
    "print(f'The best mode contains intercept: {best_model.intercept_} and the line coefficients as : {best_model.coef_}')\n",
    "y_prediction = best_model.predict(X_test)\n",
    "mse = mean_squared_error(y_test, y_prediction)\n",
    "r2=r2_score(y_test, y_prediction)\n",
    "print(f'The MSE value is {mse} and the R2 score is {r2}')"
   ]
  },
  {
   "cell_type": "code",
   "execution_count": null,
   "metadata": {},
   "outputs": [],
   "source": []
  },
  {
   "cell_type": "code",
   "execution_count": null,
   "metadata": {},
   "outputs": [],
   "source": [
    "sample=np.array(X_test.iloc[100])"
   ]
  },
  {
   "cell_type": "code",
   "execution_count": null,
   "metadata": {},
   "outputs": [],
   "source": [
    "sample = sample.reshape(1, -1)"
   ]
  },
  {
   "cell_type": "code",
   "execution_count": null,
   "metadata": {},
   "outputs": [],
   "source": [
    "result = best_model.predict(sample)"
   ]
  },
  {
   "cell_type": "code",
   "execution_count": null,
   "metadata": {},
   "outputs": [],
   "source": [
    "result[0]"
   ]
  },
  {
   "cell_type": "code",
   "execution_count": null,
   "metadata": {},
   "outputs": [],
   "source": [
    "for idx, model in enumerate(cv_res['estimator']):\n",
    "    coefficients = model.coef_\n",
    "    intercept = model.intercept_\n",
    "    print(f'Fold {idx + 1} - Coefficients: {coefficients}, Intercept: {intercept}')"
   ]
  },
  {
   "cell_type": "markdown",
   "metadata": {},
   "source": [
    "train"
   ]
  },
  {
   "cell_type": "markdown",
   "metadata": {},
   "source": [
    "temp"
   ]
  },
  {
   "cell_type": "markdown",
   "metadata": {},
   "source": [
    "predict"
   ]
  },
  {
   "cell_type": "markdown",
   "metadata": {},
   "source": [
    "evaluate"
   ]
  },
  {
   "cell_type": "code",
   "execution_count": null,
   "metadata": {},
   "outputs": [],
   "source": [
    "best_model.predict(0.5,0.4,0.05,0.05)"
   ]
  },
  {
   "cell_type": "code",
   "execution_count": null,
   "metadata": {},
   "outputs": [],
   "source": [
    "def shannon_entropy(p):\n",
    "    global x\n",
    "    p = [i*(1-x) for i in p]\n",
    "    p.append(x)\n",
    "\n",
    "    p=np.array(p)\n",
    "    p=p.reshape(1, -1)\n",
    "    y=best_model.predict(p);\n",
    "    return y[0]"
   ]
  },
  {
   "cell_type": "code",
   "execution_count": null,
   "metadata": {},
   "outputs": [],
   "source": [
    "\n",
    "scale = 20\n",
    "for x in range(0,120,20):\n",
    "    x /=100\n",
    "    figure, tax = ternary.figure(scale=scale)\n",
    "    tax.heatmapf(shannon_entropy, boundary=True, style=\"hexagonal\",cmap='viridis')#,vmin=-1,vmax=1)\n",
    "    tax.boundary(linewidth=1.0)\n",
    "    tax.set_title(f\"Values of MaxFWHM at {x} composition\")\n",
    "\n",
    "    tax.show()"
   ]
  },
  {
   "cell_type": "code",
   "execution_count": null,
   "metadata": {},
   "outputs": [],
   "source": [
    "pip install --upgrade matplotlib"
   ]
  },
  {
   "cell_type": "code",
   "execution_count": 1,
   "metadata": {},
   "outputs": [
    {
     "data": {
      "image/png": "[encoded data removed]",
      "text/plain": [
       "<Figure size 640x480 with 3 Axes>"
      ]
     },
     "metadata": {},
     "output_type": "display_data"
    }
   ],
   "source": [
    "import matplotlib.pyplot as plt\n",
    "from mpl_toolkits.mplot3d import Axes3D\n",
    "import numpy as np\n",
    "\n",
    "# Create some sample data\n",
    "x = np.linspace(0, 10, 100)\n",
    "y = np.linspace(0, 10, 100)\n",
    "x, y = np.meshgrid(x, y)\n",
    "z1 = np.sin(x + y)\n",
    "z2 = np.cos(x - y)\n",
    "z3 = x + y\n",
    "\n",
    "# Create a 3D stack of plots\n",
    "fig = plt.figure()\n",
    "\n",
    "# Plot 1\n",
    "ax1 = fig.add_subplot(3, 1, 1, projection='3d')\n",
    "ax1.plot_surface(x, y, z1, cmap='viridis')\n",
    "ax1.set_title('Plot 1')\n",
    "\n",
    "# Plot 2\n",
    "ax2 = fig.add_subplot(3, 1, 2, projection='3d')\n",
    "ax2.plot_surface(x, y, z2, cmap='plasma')\n",
    "ax2.set_title('Plot 2')\n",
    "\n",
    "# Plot 3\n",
    "ax3 = fig.add_subplot(3, 1, 3, projection='3d')\n",
    "ax3.plot_surface(x, y, z3, cmap='magma')\n",
    "ax3.set_title('Plot 3')\n",
    "\n",
    "plt.tight_layout()  # Adjust layout to prevent overlapping\n",
    "\n",
    "plt.show()\n"
   ]
  },
  {
   "cell_type": "code",
   "execution_count": null,
   "metadata": {},
   "outputs": [],
   "source": []
  },
  {
   "cell_type": "code",
   "execution_count": null,
   "metadata": {},
   "outputs": [],
   "source": []
  }
 ],
 "metadata": {
  "kernelspec": {
   "display_name": "Python 3 (ipykernel)",
   "language": "python",
   "name": "python3"
  },
  "language_info": {
   "codemirror_mode": {
    "name": "ipython",
    "version": 3
   },
   "file_extension": ".py",
   "mimetype": "text/x-python",
   "name": "python",
   "nbconvert_exporter": "python",
   "pygments_lexer": "ipython3",
   "version": "3.12.2"
  }
 },
 "nbformat": 4,
 "nbformat_minor": 2
}
